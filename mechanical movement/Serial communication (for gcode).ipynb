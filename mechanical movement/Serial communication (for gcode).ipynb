{
 "cells": [
  {
   "cell_type": "markdown",
   "metadata": {},
   "source": [
    "## Serial communication code"
   ]
  },
  {
   "cell_type": "code",
   "execution_count": 86,
   "metadata": {},
   "outputs": [
    {
     "name": "stdout",
     "output_type": "stream",
     "text": [
      "COM3 - Standardmäßgige Seriell-über-Bluetooth-Verbindung (COM3)\n",
      "COM6 - Standardmäßgige Seriell-über-Bluetooth-Verbindung (COM6)\n",
      "COM7 - USB-SERIAL CH340 (COM7)\n"
     ]
    }
   ],
   "source": [
    "import serial.tools.list_ports as port_list\n",
    "ports = list(port_list.comports())\n",
    "for p in ports:\n",
    "    print (p)"
   ]
  },
  {
   "cell_type": "code",
   "execution_count": 87,
   "metadata": {},
   "outputs": [],
   "source": [
    "import serial\n",
    "import time\n",
    "\n",
    "def send(text):\n",
    "    l = text.lower().strip().replace(\" \", \"\")\n",
    "    ll = l.encode('ascii')\n",
    "    print( 'Sending: ', end =\" \")\n",
    "    print( ll )\n",
    "    s.write(ll); s.write('\\n'.encode());\n",
    "    return None\n",
    "    \n",
    "def output():\n",
    "    grbl_out = s.readlines() # Wait for grbl response with carriage return\n",
    "    for line in grbl_out:\n",
    "        print( line.strip().decode('ascii') )\n",
    "    return None\n",
    " \n",
    "def execute(commands, t):\n",
    "    for line in commands:\n",
    "        #strip comments\n",
    "        pos = line.find(\";\")\n",
    "        if line != -1 :\n",
    "            line = line[0:pos].strip(\" \");\n",
    "        #skip if empty\n",
    "        if len(line) == 0 :\n",
    "            continue\n",
    "        send(line)\n",
    "        output()\n",
    "        time.sleep(t)\n",
    "    return None"
   ]
  },
  {
   "cell_type": "markdown",
   "metadata": {},
   "source": [
    "-----"
   ]
  },
  {
   "cell_type": "markdown",
   "metadata": {},
   "source": [
    "## Arduino"
   ]
  },
  {
   "cell_type": "code",
   "execution_count": null,
   "metadata": {},
   "outputs": [],
   "source": [
    "###connect\n",
    "import serial\n",
    "import time\n",
    "\n",
    "#open serial port\n",
    "s = serial.Serial('COM7',115200,timeout=5)\n",
    "\n",
    "send(\"\\r\\n\\r\\n\")\n",
    "time.sleep(1)\n",
    "output()\n",
    "s.flushInput()"
   ]
  },
  {
   "cell_type": "code",
   "execution_count": null,
   "metadata": {},
   "outputs": [],
   "source": [
    "###home\n",
    "send(\"h\")\n",
    "time.sleep(1)\n",
    "output()\n",
    "s.flushInput()"
   ]
  },
  {
   "cell_type": "code",
   "execution_count": null,
   "metadata": {},
   "outputs": [],
   "source": [
    "###move\n",
    "d=100\n",
    "send(str(d))\n",
    "time.sleep(1)\n",
    "output()\n",
    "s.flushInput()"
   ]
  },
  {
   "cell_type": "markdown",
   "metadata": {},
   "source": [
    "-----"
   ]
  },
  {
   "cell_type": "markdown",
   "metadata": {},
   "source": [
    "## GRBL"
   ]
  },
  {
   "cell_type": "code",
   "execution_count": 115,
   "metadata": {},
   "outputs": [
    {
     "name": "stdout",
     "output_type": "stream",
     "text": [
      "Sending:  b''\n",
      "\n",
      "Grbl 1.1f ['$' for help]\n",
      "[MSG:'$H'|'$X' to unlock]\n"
     ]
    }
   ],
   "source": [
    "###connect\n",
    "import serial\n",
    "import time\n",
    "\n",
    "#open serial port\n",
    "s = serial.Serial('COM7',115200,timeout=5)\n",
    "\n",
    "send(\"\\r\\n\\r\\n\")\n",
    "time.sleep(1)\n",
    "output()\n",
    "s.flushInput()"
   ]
  },
  {
   "cell_type": "code",
   "execution_count": 116,
   "metadata": {},
   "outputs": [
    {
     "name": "stdout",
     "output_type": "stream",
     "text": [
      "Sending:  b'$$'\n",
      "$0=10\n",
      "$1=255\n",
      "$2=0\n",
      "$3=0\n",
      "$4=0\n",
      "$5=0\n",
      "$6=0\n",
      "$10=255\n",
      "$11=0.010\n",
      "$12=0.002\n",
      "$13=0\n",
      "$20=0\n",
      "$21=0\n",
      "$22=1\n",
      "$23=7\n",
      "$24=25.000\n",
      "$25=500.000\n",
      "$26=250\n",
      "$27=1.000\n",
      "$30=1000\n",
      "$31=0\n",
      "$32=0\n",
      "$100=100.000\n",
      "$101=100.000\n",
      "$102=100.000\n",
      "$110=300.000\n",
      "$111=300.000\n",
      "$112=300.000\n",
      "$120=10.000\n",
      "$121=10.000\n",
      "$122=10.000\n",
      "$130=300.000\n",
      "$131=300.000\n",
      "$132=300.000\n",
      "ok\n"
     ]
    }
   ],
   "source": [
    "###info\n",
    "send(\"$$\")\n",
    "time.sleep(1)\n",
    "output()\n",
    "s.flushInput()"
   ]
  },
  {
   "cell_type": "code",
   "execution_count": 51,
   "metadata": {
    "scrolled": true
   },
   "outputs": [
    {
     "name": "stdout",
     "output_type": "stream",
     "text": [
      "Sending:  b'g21'\n",
      "error:9\n",
      "Sending:  b'$100=100.000'\n",
      "ok\n",
      "Sending:  b'$101=100.000'\n",
      "ok\n",
      "Sending:  b'$102=100.000'\n",
      "ok\n",
      "Sending:  b'$110=300.000'\n",
      "ok\n",
      "Sending:  b'$111=300.000'\n",
      "ok\n",
      "Sending:  b'$112=300.000'\n",
      "ok\n",
      "Sending:  b'$120=10.000'\n",
      "ok\n",
      "Sending:  b'$121=10.000'\n",
      "ok\n",
      "Sending:  b'$122=10.000'\n",
      "ok\n",
      "Sending:  b'$130=300.000'\n",
      "ok\n",
      "Sending:  b'$131=300.000'\n",
      "ok\n",
      "Sending:  b'$132=300.000'\n",
      "ok\n",
      "Sending:  b'$1=255'\n",
      "ok\n",
      "Sending:  b'$22=1'\n",
      "ok\n",
      "Sending:  b'$23=7'\n",
      "ok\n"
     ]
    }
   ],
   "source": [
    "###setup parameters\n",
    "setup=[\n",
    "    \"G21 ;set units to millimeters\",\n",
    "    \"$100 = 100.000 ;(X-axis travel resolution, step/mm)\",\n",
    "    \"$101 = 100.000 ;(Y-axis travel resolution, step/mm)\",\n",
    "    \"$102 = 100.000 ;(Z-axis travel resolution, step/mm)\",\n",
    "    \"$110 = 300.000 ;(X-axis maximum rate, mm/min)\",\n",
    "    \"$111 = 300.000 ;(Y-axis maximum rate, mm/min)\",\n",
    "    \"$112 = 300.000 ;(Z-axis maximum rate, mm/min)\",\n",
    "    \"$120 = 10.000 ;(X-axis acceleration, mm/sec^2)\",\n",
    "    \"$121 = 10.000 ;(Y-axis acceleration, mm/sec^2)\",\n",
    "    \"$122 = 10.000 ;(Z-axis acceleration, mm/sec^2)\",\n",
    "    \"$130 = 300.000 ;(X-axis maximum travel, millimeters)\",\n",
    "    \"$131 = 300.000 ;(Y-axis maximum travel, millimeters)\",\n",
    "    \"$132 = 300.000 ;(Z-axis maximum travel, millimeters)\",\n",
    "    \"$1 = 255 ;power motor on\",\n",
    "    \"$22 = 1 ;homing enabled\",\n",
    "    \"$23 = 7 ;homing direction\",\n",
    "]\n",
    "execute(setup,0)"
   ]
  },
  {
   "cell_type": "code",
   "execution_count": 117,
   "metadata": {},
   "outputs": [
    {
     "name": "stdout",
     "output_type": "stream",
     "text": [
      "Sending:  b'$h'\n"
     ]
    }
   ],
   "source": [
    "###home\n",
    "send(\"$H\")\n",
    "time.sleep(1)\n",
    "output()\n",
    "s.flushInput()"
   ]
  },
  {
   "cell_type": "code",
   "execution_count": 43,
   "metadata": {},
   "outputs": [
    {
     "name": "stdout",
     "output_type": "stream",
     "text": [
      "Sending:  b'$x'\n"
     ]
    }
   ],
   "source": [
    "###???\n",
    "###unlock movement\n",
    "send('$X')\n",
    "time.sleep(1)"
   ]
  },
  {
   "cell_type": "code",
   "execution_count": 113,
   "metadata": {},
   "outputs": [
    {
     "name": "stdout",
     "output_type": "stream",
     "text": [
      "Sending:  b'g1x0y0z10f100'\n",
      "Sending:  b'g1x0y0z5f100'\n"
     ]
    }
   ],
   "source": [
    "move=[\n",
    "    \"G1 X0 Y0 Z10 F100 ;move\",\n",
    "    \"G1 X0 Y0 Z5 F100 ;move\"\n",
    "]\n",
    "execute(move,3)\n",
    "time.sleep(1)\n",
    "output()\n",
    "s.flushInput()"
   ]
  },
  {
   "cell_type": "code",
   "execution_count": 23,
   "metadata": {},
   "outputs": [],
   "source": [
    "#open g-code file\n",
    "#f = open('file.gcode','r')"
   ]
  },
  {
   "cell_type": "code",
   "execution_count": 114,
   "metadata": {},
   "outputs": [],
   "source": [
    "#close file & connection\n",
    "#f.close()\n",
    "s.close()"
   ]
  },
  {
   "cell_type": "raw",
   "metadata": {},
   "source": [
    "f=[\n",
    "    \"G21 ;set units to millimeters\",\n",
    "    \"G91 ;set relative position\",\n",
    "    \"G28 X Y Z ;move to home\",\n",
    "    \"G92 X0 Y0 Z0 ;set position\",\n",
    "    \"G0 X1 Y1 Z1 F2000 ;move imidiate\",\n",
    "    \"G1 X1 Y1 Z1 F1000 ;move\",\n",
    "    \n",
    "    M92 X80 Y80 Z2560 E1200 ;set axis steps per unit\",\n",
    "    \"M201 X800 Y800 Z100 ;set maximum acceleration (printing)\",\n",
    "    \"M202 X800 Y800 Z100 ;set maximum acceleration (travel)\",\n",
    "    \"M203 X400 Y400 Z2.00 ;set maximum feed rate\",\n",
    "    \"M204 S500 T400 ;set default acceleration\",\n",
    "    \"M205 S0.00 T0.00 B20000 X10 Z1 ;minimum printing/travel speed, min segment time, jerk\",\n",
    "    \"M206 X0.00 Y0.00 Z0.00 ;set values to eeprom\"\n",
    "] "
   ]
  },
  {
   "cell_type": "raw",
   "metadata": {},
   "source": [
    "### GRBL commands\n",
    "$0 = 10    (Step pulse time, microseconds)\n",
    "$1 = 25    (Step idle delay, milliseconds)\n",
    "$2 = 0    (Step pulse invert, mask)\n",
    "$3 = 0    (Step direction invert, mask)\n",
    "$4 = 0    (Invert step enable pin, boolean)\n",
    "$5 = 0    (Invert limit pins, boolean)\n",
    "$6 = 0    (Invert probe pin, boolean)\n",
    "$10 = 1    (Status report options, mask)\n",
    "$11 = 0.010    (Junction deviation, millimeters)\n",
    "$12 = 0.002    (Arc tolerance, millimeters)\n",
    "$13 = 0    (Report in inches, boolean)\n",
    "$20 = 0    (Soft limits enable, boolean)\n",
    "$21 = 0    (Hard limits enable, boolean)\n",
    "$22 = 0    (Homing cycle enable, boolean)\n",
    "$23 = 0    (Homing direction invert, mask)\n",
    "$24 = 25.000    (Homing locate feed rate, mm/min)\n",
    "$25 = 500.000    (Homing search seek rate, mm/min)\n",
    "$26 = 250    (Homing switch debounce delay, milliseconds)\n",
    "$27 = 1.000    (Homing switch pull-off distance, millimeters)\n",
    "$30 = 1000    (Maximum spindle speed, RPM)\n",
    "$31 = 0    (Minimum spindle speed, RPM)\n",
    "$32 = 0    (Laser-mode enable, boolean)\n",
    "$100 = 250.000    (X-axis travel resolution, step/mm)\n",
    "$101 = 250.000    (Y-axis travel resolution, step/mm)\n",
    "$102 = 250.000    (Z-axis travel resolution, step/mm)\n",
    "$110 = 500.000    (X-axis maximum rate, mm/min)\n",
    "$111 = 500.000    (Y-axis maximum rate, mm/min)\n",
    "$112 = 500.000    (Z-axis maximum rate, mm/min)\n",
    "$120 = 10.000    (X-axis acceleration, mm/sec^2)\n",
    "$121 = 10.000    (Y-axis acceleration, mm/sec^2)\n",
    "$122 = 10.000    (Z-axis acceleration, mm/sec^2)\n",
    "$130 = 200.000    (X-axis maximum travel, millimeters)\n",
    "$131 = 200.000    (Y-axis maximum travel, millimeters)\n",
    "$132 = 200.000    (Z-axis maximum travel, millimeters)"
   ]
  },
  {
   "cell_type": "raw",
   "metadata": {},
   "source": [
    "### GRBL Error List \n",
    "1 Expected command letter G-code words consist of a letter and a value. Letter was not found.\n",
    "2 Bad number format Missing the expected G-code word value or numeric value format is not valid.\n",
    "3 Invalid statement Grbl '$' system command was not recognized or supported.\n",
    "4 Value < 0 Negative value received for an expected positive value.\n",
    "5 Setting disabled Homing cycle failure. Homing is not enabled via settings.\n",
    "6 Value < 3 usec Minimum step pulse time must be greater than 3usec.\n",
    "7 EEPROM read fail. Using defaults An EEPROM read failed. Auto-restoring affected EEPROM to default values.\n",
    "8 Not idle Grbl '$' command cannot be used unless Grbl is IDLE. Ensures smooth operation during a job.\n",
    "9 G-code lock G-code commands are locked out during alarm or jog state.\n",
    "10 Homing not enabled Soft limits cannot be enabled without homing also enabled.\n",
    "11 Line overflow Max characters per line exceeded. Received command line was not executed.\n",
    "12 Step rate > 30kHz Grbl '$' setting value cause the step rate to exceed the maximum supported.\n",
    "13 Check Door Safety door detected as opened and door state initiated.\n",
    "14 Line length exceeded Build info or startup line exceeded EEPROM line length limit. Line not stored.\n",
    "15 Travel exceeded Jog target exceeds machine travel. Jog command has been ignored.\n",
    "16 Invalid jog command Jog command has no '=' or contains prohibited g-code.\n",
    "17 Setting disabled Laser mode requires PWM output.\n",
    "20 Unsupported command Unsupported or invalid g-code command found in block.\n",
    "21 Modal group violation More than one g-code command from same modal group found in block.\n",
    "22 Undefined feed rate Feed rate has not yet been set or is undefined.\n",
    "23 Invalid gcode ID:23 G-code command in block requires an integer value.\n",
    "24 Invalid gcode ID:24 More than one g-code command that requires axis words found in block.\n",
    "25 Invalid gcode ID:25 Repeated g-code word found in block.\n",
    "26 Invalid gcode ID:26 No axis words found in block for g-code command or current modal state which requires them.\n",
    "27 Invalid gcode ID:27 Line number value is invalid.\n",
    "28 Invalid gcode ID:28 G-code command is missing a required value word.\n",
    "29 Invalid gcode ID:29 G59.x work coordinate systems are not supported.\n",
    "30 Invalid gcode ID:30 G53 only allowed with G0 and G1 motion modes.\n",
    "31 Invalid gcode ID:31 Axis words found in block when no command or current modal state uses them.\n",
    "32 Invalid gcode ID:32 G2 and G3 arcs require at least one in-plane axis word.\n",
    "33 Invalid gcode ID:33 Motion command target is invalid.\n",
    "34 Invalid gcode ID:34 Arc radius value is invalid.\n",
    "35 Invalid gcode ID:35 G2 and G3 arcs require at least one in-plane offset word.\n",
    "36 Invalid gcode ID:36 Unused value words found in block.\n",
    "37 Invalid gcode ID:37 G43.1 dynamic tool length offset is not assigned to configured tool length axis.\n",
    "38 Invalid gcode ID:38 Tool number greater than max supported value."
   ]
  },
  {
   "cell_type": "code",
   "execution_count": null,
   "metadata": {},
   "outputs": [],
   "source": []
  }
 ],
 "metadata": {
  "kernelspec": {
   "display_name": "Python 3",
   "language": "python",
   "name": "python3"
  },
  "language_info": {
   "codemirror_mode": {
    "name": "ipython",
    "version": 3
   },
   "file_extension": ".py",
   "mimetype": "text/x-python",
   "name": "python",
   "nbconvert_exporter": "python",
   "pygments_lexer": "ipython3",
   "version": "3.9.0"
  }
 },
 "nbformat": 4,
 "nbformat_minor": 4
}
