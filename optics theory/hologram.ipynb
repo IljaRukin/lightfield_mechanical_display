{
 "cells": [
  {
   "cell_type": "markdown",
   "metadata": {},
   "source": [
    "# hologram\n",
    "\n",
    "created by interference of the refrence wave $E_R$ and the object wave $E_O$\n",
    "\n",
    "\\begin{align}\n",
    "E &= E_R + E_O \\\\\n",
    "I &= E^*E = I_R + I_O + 2 Re\\{ E_R \\cdot E_O \\}\n",
    "\\end{align}\n",
    "\n",
    "$I_O$ is the self interference of the Object, wich produces artefacts in the hologram hence a hologram is recorded off axis at a higher angle to reduce this term. In CGH this term is excluded.\n",
    "\n",
    "The term $I_R$ is the interference of the reference wave with itself, wich produces a uniform background. This term is also excluded in the computation and later introduced by scaling the intensity of the resulting interference pattern.\n",
    "\n",
    "The last term is the actual fringe pattern, wich produces the hologram. The reconstruction is as follows:\n",
    "\n",
    "\\begin{align}\n",
    "...\n",
    "\\end{align}\n"
   ]
  },
  {
   "cell_type": "markdown",
   "metadata": {},
   "source": [
    "## plane image hologram\n",
    "\n",
    "amplitude and/or phase modulated light is propagated in the near field with the fresnel integral and in the far field (or imaged trough a lens) with a fourier transform.\n",
    "\n",
    "In the far field (fourier) the desired amplitude with an random phase can be computed with the gerchberg-saxon-algorithm as a result from ...\n",
    "- amplitude modulation with given phase of the source\n",
    "- phase modulation with given amplitude of the source\n",
    "- amplitude & phase modulation\n",
    "The gerchberg-saxon-algorithm transforms (fourier/fresnel) cyclic between the two planes and adjust the desired/given outcome of amplitude and phase at each plane to get the missing amplitude/phase.\n",
    "\n",
    "Since the phase of the resulting hologram in the near/far field can be chosen randomly, we have a degree of freedom. This can be used to reduce the speckle noise (with a random phase) or to encode a second image at some distance $z_0$. To do the later, first the two images to be displayed distance $z_0$ apart are iteratively transformed into each other with the fresnel integral and starting with a random phase, to determine the needed phase of the first image to produce the second image amplitude. Than this phase can be used in the gerchberg-saxon-algorithm to compute the amplitude/phase modulation to reconstruct the first image and it's phase for the second image. This algorithm isn't guaranteed to converge !\n",
    "\n",
    "---\n",
    "\n",
    "A step further one can slice an 3D object into layers, where the propagation of light between layers $L_i$ is computed with a fresnel integral and a mask $M_i$ is applied at each layer for occlusion.\n",
    "\n",
    "\\begin{align}\n",
    "L_{N+1} = \\mathcal{F}^{-1} \\Big\\{ \\frac{e^{ikz}}{i\\lambda z} e^{\\frac{ik}{2z}(x^2+y^2)} \\mathcal{F} \\Big\\{ L_N \\frac{e^{ikz}}{i\\lambda z} e^{\\frac{ik}{2z}(x^2+y^2)} \\Big\\} \\Big\\} \\dot M_N\n",
    "\\end{align}\n",
    "\n",
    "with the fresnel integral:\n",
    "\n",
    "\n",
    "\\begin{align}\n",
    "E(x,y,z) &= \\iint_{aperture} \\underbrace{E(x',y',0}_{\\text{light amplitude}} \\underbrace{\\frac{e^{ikr}}{i\\lambda r}}_{\\text{free space propagation}} \\underbrace{\\cos(\\theta)}_{\\text{light attenuation}} dx'dy' \\\\\n",
    "&\\approx \\frac{e^{ikz}}{i\\lambda z} \\iint_{aperture} E(x',y',0) \\frac{e^{ikz}}{i\\lambda z} dx'dy'\n",
    "\\end{align}\n"
   ]
  },
  {
   "cell_type": "markdown",
   "metadata": {},
   "source": [
    "## stereogram\n",
    "\n",
    "Hologram is subdivided into Hogels, where for each Hogel a Rendering of the scene is used to compute the interference pattern. This way occlusion is achieved by rendering of different perspectives."
   ]
  },
  {
   "cell_type": "markdown",
   "metadata": {},
   "source": [
    "## point emitters\n",
    "\n",
    "- iterative fresnel propagation\n",
    "- ray tracing with phase for interference (sum over all self luminous points, and distance determines phase of the light from each point with initial phase $\\phi_0$ at each point)\n",
    "\n",
    "\\begin{align}\n",
    "E (r,t) &= \\sum_i \\frac{A_i}{r_i}e^{i ( \\phi_0 + k_j r_j - \\omega_j t )} \\\\\n",
    "I (r) &= E E^* \\\\\n",
    "&= (E_R + E_O)(E_R + E_O)^* \\\\\n",
    "&= |E_R|^2 + |E_O|^2 + E_R \\cdot E_O^* + E_O \\cdot E_R^*\n",
    "\\end{align}\n",
    "\n",
    "occlusion by layer masks or ray tracing"
   ]
  },
  {
   "cell_type": "markdown",
   "metadata": {},
   "source": [
    "## diffraction from triangular surfaces\n",
    "..."
   ]
  },
  {
   "cell_type": "code",
   "execution_count": null,
   "metadata": {},
   "outputs": [],
   "source": []
  }
 ],
 "metadata": {
  "kernelspec": {
   "display_name": "Python 3",
   "language": "python",
   "name": "python3"
  },
  "language_info": {
   "codemirror_mode": {
    "name": "ipython",
    "version": 3
   },
   "file_extension": ".py",
   "mimetype": "text/x-python",
   "name": "python",
   "nbconvert_exporter": "python",
   "pygments_lexer": "ipython3",
   "version": "3.9.0"
  }
 },
 "nbformat": 4,
 "nbformat_minor": 4
}
