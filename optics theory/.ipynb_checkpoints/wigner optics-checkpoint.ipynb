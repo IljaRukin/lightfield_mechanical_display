{
 "cells": [
  {
   "cell_type": "markdown",
   "metadata": {},
   "source": [
    "# Wigner function definition by M. Baastian"
   ]
  },
  {
   "cell_type": "markdown",
   "metadata": {},
   "source": [
    "### Linear Time Invariant (LTI) System\n",
    "In a LTI system the otput of a system is proportional to the amplitude of the input. For this reason the output $f_o (r_o,t_o)$ can be computed by convolving the input signal $f_i(r_i,t_i)$ with the impulse response $h(r_o,r_i,t_o-t_i)$, where the later is the output of the system in response to a delta-peak input and any signal is modeled as a sum of differently scaled delta peaks.\n",
    "\n",
    "\\begin{align}\n",
    "f_o (r_o,t_o) = \\int \\int h(r_o,r_i,t_o-t_i) f_i(r_i,t_i) dt_i dr_i\n",
    "\\end{align}\n",
    "\n",
    "The convolution simplifies in the temporal-frequency domain to a multiplication by a fourier transform.\n",
    "\n",
    "\\begin{align}\n",
    "f_o (r_o,\\nu) = \\int h(r_o,r_i,\\nu) f_i(r_i,\\nu) dr_i\n",
    "\\end{align}\n",
    "\n",
    "Note the space integration $\\int ... dr_i$ signifies a position dependent impulse response"
   ]
  },
  {
   "cell_type": "markdown",
   "metadata": {},
   "source": [
    "## Wignerdistribution\n",
    "Since an optical input can not always be defined as a simple function \n",
    "we define the mutual coherence function $\\Gamma(\\vec{r}_1,\\vec{r}_2,\\tau)$. This function is equal to the expectation value of the auto-correlation of the signal $f(\\vec{r},t)$ :\n",
    "\n",
    "\\begin{align}\n",
    "\\Gamma(\\vec{r}_1,\\vec{r}_2,\\tau) = \\lim_{2T \\rightarrow \\infty} \\frac{1}{2T} \\int_{-T}^{T} \\Big( f(\\vec{r}_1,t+\\tau) f^*(\\vec{r}_2,t) \\Big) dt\n",
    "\\end{align}\n",
    "\n",
    "wich is equal to the ensemble average in an ergodic system (Handbook of optics: CHAPTER 4 COHERENCE THEORY, William H. Carter*):\n",
    "\n",
    "\\begin{align}\n",
    "\\Gamma(\\vec{r}_1,\\vec{r}_2,\\tau) = \\Big< f(\\vec{r}_1,t+\\tau) f^*(\\vec{r}_2,t) \\Big>\n",
    "\\end{align}\n",
    "\n",
    "In the time invariant case the time can be simplified as $\\tau=t_1-t_2$. A fourier transform in temporal-frequency domain returns the power spectrum:\n",
    "\n",
    "\\begin{align}\n",
    "\\Gamma(\\vec{r}_1,\\vec{r}_2,\\nu) = \\int \\Gamma(\\vec{r}_1,\\vec{r}_2,\\tau) e^{i 2 \\pi \\nu \\tau} d \\tau \\quad .\n",
    "\\end{align}\n",
    "\n",
    "The advantage beeing, that even statistic signal can now be propagated, wich can not be fourier transformed.\n",
    "\n",
    "This way the impulse response can be applied as a multiplication in the spatial-frequency domain.\n",
    "\n",
    "This function can be propagated trough a LTI system as the original signal $f(\\vec{r},t)$ by a impulse response $h(r,\\rho)$. Note that $r$ was replaced for $\\rho$ in $\\Gamma_i(\\vec{r}_1,\\vec{r}_2,\\nu)$ only to avoid misconceptions.\n",
    "\n",
    "\\begin{align}\n",
    "\\Gamma_o (r_1,r_2,\\nu) = \\int \\int h(r_1,\\rho_1) \\Gamma_o (\\rho_1,\\rho_2,\\nu) h^*(r_2,\\rho_2) d\\rho_1 d\\rho_2\n",
    "\\end{align}\n",
    "\n",
    "The power spectrum $\\Gamma (r_1,r_2,\\nu)$ is then fourier transformed in the spatial-frequency domain.\n",
    "\n",
    "\\begin{align}\n",
    "\\Gamma (q_1,q_2,\\nu) = \\int \\int \\Gamma (r_1,r_2,\\nu) e^{-i 2 \\pi [q_1 r_1 - q_2 r_2]} dr_1 dr_2\n",
    "\\end{align}\n",
    "\n",
    "We also transform the coordinates $r_1 = r + \\frac{1}{2} r'$ and $r_2 = r - \\frac{1}{2} r'$ <b>or</b> $r = \\frac{1}{2}(r_1 + r_2)$, $r'=r_2-r_1$\n",
    "\n",
    "\\begin{align}\n",
    "\\Gamma (q+\\frac{1}{2}q',q-\\frac{1}{2}q',\\nu) &= \\int \\int \\Gamma (r+\\frac{1}{2}r',r-\\frac{1}{2}r',\\nu) e^{-i 2 \\pi [q r' + r q']} dr dr' \\\\\n",
    "&= \\int W(r,q) e^{-i 2 \\pi r q'} dr \\\\\n",
    "&= \\int A(r',q') e^{-i 2 \\pi q r'} dr' \\\\\n",
    "\\end{align}\n",
    "\n",
    "and get the Wigner distribution $W(r,q)$ \n",
    "\n",
    "\\begin{align}\n",
    "W(r,q) &= \\int \\Gamma (r+\\frac{1}{2}r',r-\\frac{1}{2}r',\\nu) e^{-i 2 \\pi q r'}dr' \\\\\n",
    "&= \\int \\Gamma (q+\\frac{1}{2}q',q-\\frac{1}{2}q',\\nu) e^{i 2 \\pi r q'}dq'\n",
    "\\end{align}\n",
    "\n",
    "and it's ambiguity function $A(r',q')$\n",
    "\n",
    "\\begin{align}\n",
    "A(r',q') &= \\int \\Gamma (r+\\frac{1}{2}r',r-\\frac{1}{2}r',\\nu) e^{-i 2 \\pi r q'} dr\n",
    "\\end{align}\n",
    "\n",
    "in between.\n",
    "\n",
    "Note that the ambiguity function is the spatial fourier transform of the wigner function.\n",
    "\n",
    "\\begin{align}\n",
    "A(r',q') &= \\int \\int W(r,q) e^{-i 2 \\pi [r q' - q r']} dr dq\n",
    "\\end{align}\n"
   ]
  },
  {
   "cell_type": "markdown",
   "metadata": {},
   "source": [
    "### propagation in wigner space\n",
    "\n",
    "\\begin{align}\n",
    "W_o(r_o,q_o) = \\iint K(r_o,q_o,r_i,q_i) W_o(r_i,q_i) dr_i dq_i \n",
    "\\end{align}\n",
    "\n",
    "with the ray spead function\n",
    "\n",
    "\\begin{align}\n",
    "K(r_o,q_o,r_i,q_i) &= \\iint h(r_o+\\frac{1}{2}r_o',r_i+\\frac{1}{2}r_i')  h^*(r_o-\\frac{1}{2}r_o',r_i-\\frac{1}{2}r_i') e^{-i (q_o r_o' - q_i r_i')} dr_o' dr_i'\n",
    "\\end{align}\n",
    "\n",
    "applied to every ray $W(r,q)=2\\pi \\delta(r-r_i) \\delta(q-q_i)$, wich has direction $q_i$ and is incident on $r_i$. After propagation the ray emerges at $r_o$ with Direction/Frequency $q_o$. Such a ray can not physically exist, but is a nice visualization nonetheless.\n"
   ]
  },
  {
   "cell_type": "code",
   "execution_count": null,
   "metadata": {},
   "outputs": [],
   "source": []
  },
  {
   "cell_type": "markdown",
   "metadata": {},
   "source": [
    "## reverse Wigner distribution to optical signal\n",
    "\n",
    "\\begin{align}\n",
    "f(2r) \\cdot f^*(0) &= \\int W(r,q) e^{i 4 \\pi q^T r} dq\n",
    "\\end{align}\n"
   ]
  },
  {
   "cell_type": "markdown",
   "metadata": {},
   "source": [
    "## Properties of wigner function\n",
    "\n",
    "The wigner function is an interesting function, since it describes light as a wave but also closely resembles the ray nature of light. THis is evident from projecting the wigner function onto the space\n",
    "\n",
    "\\begin{align}\n",
    "|I(r)|^2 = \\int W(r,q) dq\n",
    "\\end{align}\n",
    "\n",
    "and the frequency domain\n",
    "\n",
    "\\begin{align}\n",
    "|I(q)|^2 = \\int W(r,q) dr\n",
    "\\end{align}\n",
    "\n",
    "Note that the frequency vector $q$ actually includes the direction of the light and can be considered as a direction of a light ray."
   ]
  },
  {
   "cell_type": "markdown",
   "metadata": {},
   "source": [
    "### plane wave\n",
    "\n",
    "all points $x$, one direction (frequency) $q_0$\n",
    "\n",
    "\\begin{align}\n",
    "u(x) = e^{i q_0 x} = \\delta(q-q_0) \\\\\n",
    "W(x,q) = 2 \\pi \\delta(q-q_0) \\\\\n",
    "\\end{align}\n",
    "\n",
    "### point source\n",
    "\n",
    "all directions (frequencies) $q$, one point $x$\n",
    "\n",
    "\\begin{align}\n",
    "u(x) = \\delta(x-x_0) \\\\\n",
    "W(x,q) = \\delta(x-x_0) \\\\\n",
    "\\end{align}\n",
    "\n",
    "### paraxial sperical wave\n",
    "\n",
    "at every position $x$ exactly one direction (frequency) $q=\\alpha x$\n",
    "\n",
    "\\begin{align}\n",
    "u(x) = e^{i \\frac{\\alpha}{2} x^2} \\\\\n",
    "W(r,q) = 2 \\pi \\delta(q-\\alpha x) \\\\\n",
    "\\end{align}"
   ]
  },
  {
   "cell_type": "markdown",
   "metadata": {},
   "source": [
    "## incoherent Wave field ???\n",
    "<b style=\"color:red\">\n",
    "W inkohärent = sum of W coherent with phase shifts\n",
    "(https://www.youtube.com/watch?v=_A1QXKOOa-U)\n",
    "\n",
    "completly incoherent (statistic) radiation results in $\\Gamma(x,x') = I(x)\\delta(x-x')$ and $W(x,k) = I(x) \\delta(x-x_0) \\delta(k-k_0)$, wich is a simple sum of coherent $W$\n",
    "</b>"
   ]
  },
  {
   "cell_type": "markdown",
   "metadata": {},
   "source": [
    "\\begin{align}\n",
    "u(\\vec{x},t) &= \\frac{U_0}{|\\vec{x}|} e^{i( k_n|\\vec{x}|-i \\omega_n t)} \\\\\n",
    "\\Gamma(\\vec{x},\\vec{x}',\\omega) &= \\frac{|U_0|^2}{|\\vec{x}|} e^{i |\\vec{k}|(|\\vec{x}_1|-|\\vec{x}_2|)} \\delta(\\omega-\\omega_n) \\\\\n",
    "W(r,k) &= |u_0|^2 \\delta(\\vec{x}-\\vec{x}_0) \\delta(\\omega-\\omega_n) \\\\\n",
    "\\end{align}"
   ]
  },
  {
   "cell_type": "code",
   "execution_count": null,
   "metadata": {},
   "outputs": [],
   "source": []
  }
 ],
 "metadata": {
  "kernelspec": {
   "display_name": "Python 3",
   "language": "python",
   "name": "python3"
  },
  "language_info": {
   "codemirror_mode": {
    "name": "ipython",
    "version": 3
   },
   "file_extension": ".py",
   "mimetype": "text/x-python",
   "name": "python",
   "nbconvert_exporter": "python",
   "pygments_lexer": "ipython3",
   "version": "3.9.0"
  }
 },
 "nbformat": 4,
 "nbformat_minor": 4
}
