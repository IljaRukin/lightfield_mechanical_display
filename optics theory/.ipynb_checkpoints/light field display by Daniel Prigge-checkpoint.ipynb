{
 "cells": [
  {
   "cell_type": "markdown",
   "metadata": {},
   "source": [
    "# light field display by Daniel Prigge"
   ]
  },
  {
   "cell_type": "markdown",
   "metadata": {},
   "source": [
    "## Wigner-space\n",
    "\n",
    "### optical function\n",
    "\n",
    "\\begin{align}\n",
    "\\sum_{n} U_n(x,t) = \\sum_{n} U_n(x) e^{-iwt}\n",
    "\\end{align}\n",
    "\n",
    "### mutual coherence function\n",
    "\n",
    "\\begin{align}\n",
    "\\Gamma(x_1,x_2) = \\lim_{T \\rightarrow \\infty} \\frac{1}{T} \\int_{-\\frac{T}{2}}^{\\frac{T}{2}} \\sum_{n,m} U_n^*(x_1,t) U_m(x_2,t) dt \\\\\n",
    "= \\sum_n U_n^*(x_1) U_n(x_2)\n",
    "\\end{align}\n",
    "\n",
    "with $U_n^*(x_1) U_m(x_2) = \\delta_{n,m}$ from wich follows $w_n=w_m$\n",
    "\n",
    "### wigner function\n",
    "\n",
    "\n",
    "\\begin{align}\n",
    "W(x,k_x) = \\int_{-\\infty}^{\\infty} \\Gamma(x+\\frac{x'}{2},x-\\frac{x'}{2}) e^{-ik_x x'} dx' \\\\\n",
    "= \\int_{-\\infty}^{\\infty} \\sum_n U_n^*(x+\\frac{x'}{2}) U_n(x-\\frac{x'}{2}) e^{-ik_x x'} dx'\n",
    "\\end{align}\n"
   ]
  },
  {
   "cell_type": "markdown",
   "metadata": {},
   "source": [
    "\n",
    "### electrical field of the spherical wave\n",
    "\n",
    "\\begin{align}\n",
    "U_n(x,t) = \\frac{A_n}{r_n} e^{i k_n r_n} e^{i w_n t}\n",
    "\\end{align}\n",
    "\n",
    "with distance $r_n = \\sqrt{(x-x_n)^2+z^2}$.\n",
    "\n",
    "### spherical wave parabolic approximation\n",
    "\n",
    "\\begin{align}\n",
    "U_n(x,t) = \\frac{A_n}{z_n} e^{ik_n \\Big( z_n + \\frac{(x-x_n)^2 }{2 z_n} \\Big) } e^{iw_nt}\n",
    "\\end{align}\n",
    "\n",
    "with the source point of spherical wave $x_n$.\n",
    "\n",
    "### resulting wigner function (spherical wave)\n",
    "\n",
    "\\begin{align}\n",
    "W_n(x,t) = \\int_{-\\infty}^{\\infty} \\frac{A_n^2}{z_n^2} e^{-ik_n \\frac{(x-x_n)}{z_n}x'} e^{-ik_x x'} dx' \\\\\n",
    "= 2 \\pi \\frac{A_n^2}{z_n^2} \\delta \\Big( k_x + k_n \\frac{(x-x_n)}{z_n} \\Big)\n",
    "\\end{align}\n",
    "\n",
    "This wigner function is a straight line: $k_x = -k_n \\frac{(x-x_n)}{z_n}$\n"
   ]
  },
  {
   "cell_type": "markdown",
   "metadata": {},
   "source": [
    "### (parabolic) spherical wave after propagation trough a lens\n",
    "\n",
    "propagation through lense (circular phase change):\n",
    "\n",
    "\\begin{align}\n",
    "e^{-ik_n \\frac{(x-x_L)^2}{2 f}}\n",
    "\\end{align}\n",
    "\n",
    "with the middle of the lens at $x_L$.\n",
    "\n",
    "The parabolic spherical wave at distance $z_n$ and the lens with the lens at $x_L = 0$ results in:\n",
    "\n",
    "\\begin{align}\n",
    "U_n(x,t) = \\frac{A_n}{z_n} e^{ik_n \\Big( z_n + \\frac{(x-x_n)^2}{2 z_n} \\Big) } e^{iw_nt} e^{ -i k_n \\frac{x^2}{2 f}} \\\\\n",
    "= \\frac{A_n}{z_n} e^{\\Big[ i \\frac{k_n}{2} \\Big( \\underbrace{ \\frac{1}{z_n}-\\frac{1}{f} }_{d_v} \\Big) x^2 + ik_n z_n \\Big]} \\underbrace{ e^{-i \\frac{k_n }{z_n}x_n x} e^{i \\frac{k_n}{2 z_n}x_n^2} e^{iw_nt} }_{\\text{only phase change}}\n",
    "\\end{align}\n",
    "\n",
    "We get a virtual spherical wave at distance $d_v = \\frac{1}{\\frac{1}{d}-\\frac{1}{f}} = \\frac{f d}{f - d}$ if we propagate a spherical wave a distance $d = z_n$ from the LCD and trough a lens. By rearrangment we get:\n",
    "\n",
    "\\begin{align}\n",
    "d = \\frac{d_v f}{d_v + f}\n",
    "\\end{align}\n",
    "\n",
    "This result is equal to the one from the lens equation .\n",
    "\n",
    "\\begin{align}\n",
    "\\frac{1}{-f} = \\frac{1}{-d} + \\frac{1}{d_v}\n",
    "\\end{align}\n"
   ]
  },
  {
   "cell_type": "markdown",
   "metadata": {},
   "source": [
    "### imaging of lcd pixel to virtual points\n",
    "\n",
    "<img src='points.png' width='400px'>\n",
    "\n",
    "from the Intercept theorem (strahlensatz) and the imaging equation from last paragraph we get\n",
    "\n",
    "\\begin{align}\n",
    "x_0 = x_n \\frac{d_v}{d} = x_n \\frac{f}{f - d} = x_n \\frac{d_v + f}{f}\n",
    "\\end{align}\n"
   ]
  },
  {
   "cell_type": "markdown",
   "metadata": {},
   "source": [
    "### size and offset of spherical wave after lens\n",
    "\n",
    "<img src='swave.png' width='400px'>\n",
    "\n",
    "size:\n",
    "\n",
    "\\begin{align}\n",
    "\\frac{D_x/2}{d_v} = \\frac{X_A/2}{d_v+z_B} \\\\\n",
    "\\Leftrightarrow X_A = D_x \\frac{d_v+z_B}{d_v}\n",
    "\\end{align}\n",
    "\n",
    "offset:\n",
    "\n",
    "\\begin{align}\n",
    "\\frac{X'_A}{z_B} = \\frac{x_0}{d_v} \\\\\n",
    "\\Leftrightarrow X'_A = \\frac{z_B x_0}{d_v}\n",
    "\\end{align}"
   ]
  },
  {
   "cell_type": "markdown",
   "metadata": {},
   "source": [
    "### resulting wigner function (after lens)\n",
    "\n",
    "since we have a spherical wave, wichs appears to originate from point $x_0$, we modify the wigner distribution of a simple spherical wave to originate from this particular point.\n",
    "\n",
    "This results in a wigner function with straight lines:\n",
    "\n",
    "\\begin{align}\n",
    "k_x &= -k_n \\frac{(x-x_0)}{z_n} \\\\\n",
    "&= -k_n \\frac{(x-x_n \\frac{f}{f - d})}{z_n}\n",
    "\\end{align}\n",
    "\n",
    "where the sperical waves are limited to the width $X'_A - \\frac{X_A}{2} \\leq x \\leq X'_A + \\frac{X_A}{2}$ in x and y directions.\n",
    "\n"
   ]
  },
  {
   "cell_type": "markdown",
   "metadata": {},
   "source": [
    "### LF-Display in Wigner-Space\n",
    "- $d = f \\quad \\Rightarrow \\quad d_v = \\infty$\n",
    "- horizontal lines in wigner space\n",
    "\n",
    "### WF-Display in Wigner-Space\n",
    "- $d \\leq f \\quad \\Rightarrow \\quad d_v = \\infty$\n",
    "- lines with negative angle (form top-left to bottom-right) in wigner space\n",
    "\n",
    "##### LF vs WF Display\n",
    "- WF-Display represents (one !) dept of scene much better\n",
    "\n",
    "#### bigger lenses (~5mm)\n",
    "- less empty space in wigner domain from empty space between pixels\n",
    "- more frequency $k$ coverage, but less space $x$ coverage from one particular pixel\n",
    "- higher resolution at lower virtual distance, since each pixels covers only a small space $x$\n",
    "- lower resolution at higher distances, since less pixel per lens visible (at $d_v = \\infty$ only one pixel per lens) and there are less lenses [alternative: lens acts as a magnifying glass to display only one pixel]\n",
    "- less aberrations (?)\n",
    "- easier to setup (but thicker display)\n",
    "- spherical waves about the size of the human pupil\n"
   ]
  },
  {
   "cell_type": "markdown",
   "metadata": {},
   "source": [
    "## Display at a Distance\n",
    "- distance gets added to the distance of the virtual distance from the display\n",
    "- empty space in wigner domain gets extraregated"
   ]
  },
  {
   "cell_type": "markdown",
   "metadata": {},
   "source": [
    "# spatial vs depth resolution ???"
   ]
  },
  {
   "cell_type": "markdown",
   "metadata": {},
   "source": [
    "### größerer Betrachtungsbereich des Lichtfelddisplays im Wignerraum\n",
    "\n",
    "Phasenmodulation $h$ durch z.B. ein SLM im Wignerraum repräsentiert durch $K$:\n",
    "\n",
    "\\begin{align}\n",
    "h(r_o,r_i) &= e^{i \\phi(r_i)} \\delta(r_o - r_i) \\\\\n",
    "K(r_o,q_o,r_i,q_i) &= \\iint \\delta(r_o + \\frac{1}{2}r_o' - r_i - \\frac{1}{2}r_i') \\delta(r_o - \\frac{1}{2}r_o' - r_i + \\frac{1}{2}r_i') e^{i \\phi(r_i + \\frac{1}{2}r_i')} e^{-i \\phi(r_i - \\frac{1}{2}r_i')} e^{-i (q_o r_o' - q_i r_i')} dr_o' dr_i'\n",
    "\\end{align}\n",
    "\n",
    "Integration nach $d \\, r_o'$ ergibt $r_i=r_o,r_i'=r_o'$, so dass jetzt die Propagationsfunktion im Wignerraum folgende ist:\n",
    "\n",
    "\\begin{align}\n",
    "K(r_o,q_o,r_i,q_i) &= \\int e^{i \\phi(r_i + \\frac{1}{2}r_i')} e^{-i \\phi(r_i - \\frac{1}{2}r_i')} e^{-i (q_o r_i' - q_i r_i')} dr_i'\n",
    "\\end{align}\n",
    "\n",
    "Für das Beispiel einer Phasenmodulationsfunktion $\\phi=a r_i$ folgt aus der Integration nach $d \\, r_i'$ :\n",
    "\n",
    "\\begin{align}\n",
    "K(r_o,r_i) &= \\delta( a + q_i - q_o)\n",
    "\\end{align}\n",
    "\n",
    "so dass die Richtung jedes Lichtstrahls konstant um $a$ verändert wird (ähnlich einem Prisma).\n",
    "\n",
    "Die zweite Variante ist es die Lichtstrahlen aufzuweiten. Dazu wird die Phasenmodulationsfunktion $\\phi=b \\cdot r_i^2$ verwendet (ähnlich einer Linse). Nach der Integration ergibt sich\n",
    "\n",
    "\\begin{align}\n",
    "K(r_o,q_o,r_i,q_i) = \\delta( 2b \\cdot r_i + q_o - q_i)\n",
    "\\end{align}\n",
    "\n",
    "so dass mit dem Abstand vom Linsenzentrum $r_i=0$ mal den Faktor $2b$ die eintreffenden Lichtstrahlen immer stärker umgelenkt werden. Bei positiven $b$ ist die Richtungsänderung nach innen und bei negativen $b$ nach außen, sodass im zweiten Fall ein (leicht) größerer Betrachtungswinkel von einer Linse angesprochen werden kann."
   ]
  },
  {
   "cell_type": "code",
   "execution_count": null,
   "metadata": {},
   "outputs": [],
   "source": []
  }
 ],
 "metadata": {
  "kernelspec": {
   "display_name": "Python 3",
   "language": "python",
   "name": "python3"
  },
  "language_info": {
   "codemirror_mode": {
    "name": "ipython",
    "version": 3
   },
   "file_extension": ".py",
   "mimetype": "text/x-python",
   "name": "python",
   "nbconvert_exporter": "python",
   "pygments_lexer": "ipython3",
   "version": "3.9.0"
  }
 },
 "nbformat": 4,
 "nbformat_minor": 4
}
