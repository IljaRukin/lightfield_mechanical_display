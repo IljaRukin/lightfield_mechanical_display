{
 "cells": [
  {
   "cell_type": "markdown",
   "metadata": {},
   "source": [
    "# free space propagation"
   ]
  },
  {
   "cell_type": "markdown",
   "metadata": {},
   "source": [
    "### exact free space propagation from Rayleigh–Sommerfeld diffraction\n",
    "This means, that we consider the whole light comes from an aperture S:\n",
    "\n",
    "\\begin{align}\n",
    "U(P) &= \\frac{1}{4\\pi} \\int_S \\bigg( U \\frac{\\partial G}{\\partial n} - G \\frac{\\partial U}{\\partial n} \\bigg) d^2S \\\\\n",
    "&= \\int_S U \\underbrace{ \\Big( \\frac{1}{i\\lambda s} - \\frac{1}{2 \\pi s} \\Big) e^{-iks} }_{\\text{free space propagation}} \\cos(\\vec{n},\\vec{s}) d^2S \\\\\n",
    "&\\approx \\int_S U \\underbrace{ \\frac{e^{-iks}}{i \\lambda s} }_{\\text{free space propagation}} \\cos(\\vec{n},\\vec{s}) d^2S \\\\\n",
    "\\end{align}\n"
   ]
  },
  {
   "cell_type": "markdown",
   "metadata": {},
   "source": [
    "## free space propagation - impulse response\n",
    "We can decompose a light field $U(\\vec{r})$ into plane waves with frequencies $\\vec{k}$ by a fourier transform. Since the length of wave vector $k = \\frac{2 \\pi}{\\lambda}$ is constant, all frequencies lie on the suface of a sphere wird radius $k$. This means, that we really have only two degrees of freedom. Therefore we can calculate $k_z = \\sqrt{k^2 - k_x^2 - k_y^2}$ using only $k_x^2$ and $k_y^2$.\n",
    "\n",
    "A 3D Fourier transform of the wave field can only be calculated, if we know the complete wave field in 3D space, but we know the wave field only in the plane $z=0$. For this reason we try a 2D fourier transform:\n",
    "\n",
    "\\begin{align}\n",
    "U(x,y,z) &= \\mathcal{F}^{-1}_{k_x,k_y} \\bigg\\{ \\mathcal{F}_{x,y} \\bigg\\{ U(x,y,z) \\bigg\\} \\bigg\\} \\\\\n",
    "&= \\mathcal{F}^{-1}_{k_x,k_y} \\bigg\\{ A(k_x,k_y,z) \\bigg\\}\n",
    "\\end{align}\n",
    "\n",
    "Now we want to propagate the wave field from $z=0$ to $z=z'$ using some function $H(k_x,k_y)$. To determine this function we note, that $A(k_x,k_y,z)$ has to obey the helmholtz equation $(\\triangle + k^2) A(k_x,k_y,z) = 0$, from wich follows:\n",
    "\n",
    "\\begin{align}\n",
    "\\Big( \\frac{\\partial^2}{\\partial z^2} + k_z^2 \\Big) A(k_x,k_y,z) = 0 \\\\\n",
    "\\Big( \\frac{\\partial^2}{\\partial z^2} + k^2-k_x^2-k_y^2 \\Big) A(k_x,k_y,z) = 0 \\\\\n",
    "\\end{align}\n",
    "\n",
    "with the solution:\n",
    "\n",
    "\\begin{align}\n",
    "A(k_x,k_y,z) = A(k_x,k_y,z) e^{i z\\sqrt{k^2-k_x^2-k_y^2}} \\\\\n",
    "\\end{align}\n",
    "\n",
    "hence the propagation function is \n",
    "\n",
    "\\begin{align}\n",
    "H(k_x,k_y,z) = e^{i z\\sqrt{k^2-k_x^2-k_y^2}} \\\\\n",
    "\\end{align}\n",
    "\n",
    "To propagate the wave field we apply it in the fourier space $A(k_x,k_y)$:\n",
    "\n",
    "\\begin{align}\n",
    "U(x,y,z') &= \\mathcal{F}^{-1}_{k_x,k_y} \\bigg\\{ \\mathcal{F}_{x,y} \\bigg\\{ U(x,y,0) \\bigg\\} \\cdot H(k_x,k_y,z') \\bigg\\}\n",
    "\\end{align}\n",
    "\n",
    "\n",
    "In other words the propagation in free space is equal to a phase shift $e^{i z\\sqrt{k^2-k_x^2-k_y^2}}$.\n",
    "\n",
    "Note that no frequencies higher than the frequency $f=\\frac{kc}{2\\pi}$ of the light itself can neither be captured, nor propagated by the wave field.\n"
   ]
  },
  {
   "cell_type": "markdown",
   "metadata": {},
   "source": [
    "## free space propagation (fresnel approximation)\n",
    "\n",
    "We approximate the wave propagation from above\n",
    "\n",
    "\\begin{align}\n",
    "U(x,y,z) &= \\iint_{-\\infty}^{\\infty} U(k_x,k_y,0)e^{i \\sqrt{k^2-k_x^2-k_y^2} \\cdot z} dk_u dk_v \\\\\n",
    "&= \\iint_{-\\infty}^{\\infty} U(k_x,k_y,0)e^{i k z \\sqrt{1-\\frac{k_x^2 + k_y^2}{k^2}}} dk_u dk_v \\\\\n",
    "&\\approx \\iint_{-\\infty}^{\\infty} U(k_x,k_y,0) \\underbrace{e^{i k z \\big( 1-\\frac{k_x^2 + k_y^2}{2k^2} \\big)}}_{H(k_x,k_y)} dk_u dk_v \\\\\n",
    "&= U(x,y,0) \\circledast \\underbrace{ \\frac{ e^{i k \\big( z -\\frac{x^2 + y^2}{2z} \\big)} }{ \\sqrt{\\frac{z}{ik}} }}_{h(x,y)}\n",
    "\\end{align}\n",
    "\n",
    "Since $\\frac{ e^{i k z} }{ \\sqrt{\\frac{z}{ik}} }$ is just a constant and a phase factor the impulse response can be simplified to $h(x,y) \\approx e^{-\\frac{u^2 + v^2}{2z}}$.\n"
   ]
  },
  {
   "cell_type": "markdown",
   "metadata": {},
   "source": [
    "## free space propagation (fresnel approximation)\n",
    "\n",
    "We approximate the wave propagation from above\n",
    "\n",
    "\\begin{align}\n",
    "U(x,y,z) &= \\iint_{-\\infty}^{\\infty} U(k_x,k_y,0)e^{i \\sqrt{k^2-k_x^2-k_y^2} \\cdot z} dk_u dk_v \\\\\n",
    "&= \\iint_{-\\infty}^{\\infty} U(k_x,k_y,0)e^{i k z \\sqrt{1-\\frac{k_x^2 + k_y^2}{k^2}}} dk_u dk_v \\\\\n",
    "&\\approx \\iint_{-\\infty}^{\\infty} U(k_x,k_y,0) \\underbrace{e^{i k z \\big( 1-\\frac{k_x^2 + k_y^2}{2k^2} \\big)}}_{H(k_x,k_y)} dk_u dk_v \\\\\n",
    "&= U(x,y,0) \\circledast \\underbrace{ \\frac{ e^{i k \\big( z -\\frac{x^2 + y^2}{2z} \\big)} }{ \\sqrt{\\frac{z}{ik}} }}_{h(x,y)}\n",
    "\\end{align}\n",
    "\n",
    "Since $\\frac{ e^{i k z} }{ \\sqrt{\\frac{z}{ik}} }$ is just a constant and a phase factor the impulse response can be simplified to $h(x,y) \\approx e^{-\\frac{u^2 + v^2}{2z}}$.\n"
   ]
  },
  {
   "cell_type": "code",
   "execution_count": null,
   "metadata": {},
   "outputs": [],
   "source": []
  },
  {
   "cell_type": "markdown",
   "metadata": {},
   "source": [
    "# lens propagation"
   ]
  },
  {
   "cell_type": "markdown",
   "metadata": {},
   "source": [
    "### exact lens propagation\n",
    "\n",
    "A lens changes the phase of the light by slowing it down inside the lens medium:\n",
    "\n",
    "\\begin{align}\n",
    "ℎ(𝑥,𝑦) &= e^{-i \\frac{2 \\pi}{\\lambda} \\big( \\delta + n h \\big) }\n",
    "\\end{align}\n",
    "\n",
    "with free space distance $\\delta = R - \\sqrt{R^2-\\rho^2} \\approx \\frac{\\rho^2}{2R}$ and distance trough the lens $h = H_0 - \\delta$, where $\\rho$ is the distance from the lens center and $H_0$ the maximum thickness of the lens.\n",
    "\n",
    "\\begin{align}\n",
    "h (x,y) &\\approx e^{-i \\frac{2 \\pi}{\\lambda} \\big( \\frac{\\rho^2}{2R} + n (H_0-\\frac{\\rho^2}{2R}) \\big) } \\\\\n",
    "&= e^{-i \\frac{2 \\pi}{\\lambda} \\big( (1-n) \\frac{\\rho^2}{2R} + n H_0 \\big) }\n",
    "\\end{align}\n",
    "\n",
    "and for the biconvex lens\n",
    "\n",
    "\\begin{align}\n",
    "h (x,y) &\\approx e^{-i \\frac{2 \\pi}{\\lambda} \\big( (n-1) \\frac{\\rho^2}{2} \\Big( \\frac{1}{R_1} - \\frac{1}{R_2} \\Big) + 2 n H_0 \\big) }\n",
    "\\end{align}\n",
    "\n",
    "when we apply the lensmaker equation $\\frac{1}{f} = (n-1) \\Big( \\frac{1}{R_1} - \\frac{1}{R_2} \\Big)$, $k = \\frac{2 \\pi}{\\lambda}$ and use the thin lens approximation $H_0\\rightarrow 0$, we get the familiar equation:\n",
    "\n",
    "\\begin{align}\n",
    "h (x,y) &\\approx e^{-i k \\frac{\\rho^2}{2f} }\n",
    "\\end{align}\n",
    "\n",
    "note: the light rays are approximated to be parallel to the z-axis."
   ]
  },
  {
   "cell_type": "markdown",
   "metadata": {},
   "source": [
    "## fourier transform with a lens\n",
    "\n",
    "a lens focuses parallel light rays (plane wave) at the focal point. This correspons to a phase change, wich is proportional to the distance of the lens center (at $x=0$)squared:\n",
    "\n",
    "\\begin{align}\n",
    "U_L(u,v) = U(u,v) e^{-ik \\frac{u^2+v^2}{2 f}}\n",
    "\\end{align}\n",
    "\n",
    "Using Fresnel diffraction:\n",
    "\n",
    "\\begin{align}\n",
    "U(x,y) &= \\frac{e^{-ikz}}{i z \\lambda} e^{-\\frac{ik}{2z} \\big( x^2 + y^2 \\big)} \\int U_L(u,v) e^{-\\frac{ik}{2z} \\big( u^2 + v^2 \\big)} e^{+\\frac{ik}{2z} \\big( xu + yv \\big)} dudv \\bigg|_{z=-f} \\\\\n",
    "&= \\frac{e^{ikf}}{i f \\lambda} e^{-\\frac{ik}{2f} \\big( x^2 + y^2 \\big)} \\int U(u,v) e^{-ik \\frac{u^2+v^2}{2 f}} e^{\\frac{ik}{2f} \\big( u^2 + v^2 \\big)} e^{-\\frac{ik}{2f} \\big( xu + yv \\big)} dudv \\\\\n",
    "&= \\underbrace{ \\frac{e^{ikf}}{i f \\lambda} }_{\\text{phase change}} \\int U(u,v) e^{-\\frac{ik}{2f} \\big( xu + yv \\big)} dudv\n",
    "\\end{align}\n",
    "\n",
    "we get with a lens a simple fourier transform at the back focal plane $z=f$. This makes visually sense, since the image (fourier transform) of a plane wave (constant value) is a point (dirac function) in the back focal plane.\n"
   ]
  },
  {
   "cell_type": "code",
   "execution_count": null,
   "metadata": {},
   "outputs": [],
   "source": []
  }
 ],
 "metadata": {
  "kernelspec": {
   "display_name": "Python 3",
   "language": "python",
   "name": "python3"
  },
  "language_info": {
   "codemirror_mode": {
    "name": "ipython",
    "version": 3
   },
   "file_extension": ".py",
   "mimetype": "text/x-python",
   "name": "python",
   "nbconvert_exporter": "python",
   "pygments_lexer": "ipython3",
   "version": "3.9.0"
  }
 },
 "nbformat": 4,
 "nbformat_minor": 4
}
