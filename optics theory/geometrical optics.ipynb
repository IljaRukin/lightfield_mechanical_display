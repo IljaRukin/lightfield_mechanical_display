{
 "cells": [
  {
   "cell_type": "markdown",
   "metadata": {},
   "source": [
    "## geometrical optics\n",
    "\n",
    "intercept theorem (Strahlensatz):\n",
    "\n",
    "\\begin{align}\n",
    "\\frac{B}{A} &= \\frac{b}{a} \\\\\n",
    "\\frac{B}{A} &= \\frac{b-f}{f}\n",
    "\\end{align}\n",
    "\n",
    "imaging equation\n",
    "\n",
    "\\begin{align}\n",
    "\\frac{1}{f} = \\frac{1}{a} + \\frac{1}{b}\n",
    "\\end{align}\n",
    "\n",
    "magnification\n",
    "\n",
    "\\begin{align}\n",
    "\\frac{B}{A} = \\frac{b}{a}\n",
    "\\end{align}\n",
    "\n",
    "lensmaker formula\n",
    "\n",
    "\\begin{align}\n",
    "D = \\frac{n_1}{f} = (n_2-n_1) \\bigg( \\frac{1}{R_1} + \\frac{1}{R_2} \\bigg)\n",
    "\\end{align}"
   ]
  },
  {
   "cell_type": "code",
   "execution_count": null,
   "metadata": {},
   "outputs": [],
   "source": []
  }
 ],
 "metadata": {
  "kernelspec": {
   "display_name": "Python 3",
   "language": "python",
   "name": "python3"
  },
  "language_info": {
   "codemirror_mode": {
    "name": "ipython",
    "version": 3
   },
   "file_extension": ".py",
   "mimetype": "text/x-python",
   "name": "python",
   "nbconvert_exporter": "python",
   "pygments_lexer": "ipython3",
   "version": "3.9.0"
  }
 },
 "nbformat": 4,
 "nbformat_minor": 4
}
