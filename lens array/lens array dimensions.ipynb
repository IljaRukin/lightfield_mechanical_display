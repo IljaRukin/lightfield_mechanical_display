{
 "cells": [
  {
   "cell_type": "markdown",
   "metadata": {},
   "source": [
    "## lens dimensions\n",
    "\n",
    "<img src=\"lens_array.jpg\">\n",
    "\n",
    "Equation for Half sphere of lens with diameter D:\n",
    "\n",
    "\\begin{align}\n",
    "x^2 + y^2 = R^2\n",
    "\\end{align}\n",
    "\n",
    "with particular point at the edge of the lens (L,D/2)\n",
    "\n",
    "\\begin{align}\n",
    "(L)^2 + (\\frac{D}{2})^2 = R^2\n",
    "\\end{align}\n",
    "\n",
    "and thickness $d = 2 (R-L)$.\n",
    "\n",
    "## lens array dimensions\n",
    "\n",
    "Basis vectors for translation of lenses in an array are $(2l+k,0)=(D+k,0)=(\\frac{3}{2} D,0)$ and $(l+k/2,h)=(\\frac{D+k}{2},h)=(\\frac{3}{4} D,h)$ with $k=2l \\sin(30°)=l=D/2$ and $h=l \\cos(30°)=\\sqrt{3}/2 l$.\n",
    "\n",
    "=> \n",
    "\n",
    "## optimal parameters\n",
    "\n",
    "field of view\n",
    "\n",
    "\\begin{align}\n",
    "\\alpha &= arctan \\left( \\frac{D}{2f} \\right) \\\\\n",
    "&= arctan \\left( \\frac{D}{2} (n-1) \\left( \\frac{1}{R_1} + \\frac{1}{R_2} \\right) \\right)\n",
    "\\end{align}\n",
    "\n",
    "with parameters $D \\approx 6mm$, $n \\approx 1.4$, $R \\approx \\frac{2D}{3} = 4mm < \\frac{D}{2}$, $L = \\sqrt{R^2 - \\left( \\frac{D}{2} \\right)^2} = 2.65mm$, $d = 2(R-L) = 2.7mm$.\n"
   ]
  },
  {
   "cell_type": "code",
   "execution_count": 4,
   "metadata": {},
   "outputs": [
    {
     "data": {
      "text/plain": [
       "(6, 1.4, 4.0, 5.0, -2.0, 0.19999999999999996, 1.5042281630190728)"
      ]
     },
     "execution_count": 4,
     "metadata": {},
     "output_type": "execute_result"
    }
   ],
   "source": [
    "# optimal parameters\n",
    "\n",
    "import numpy as np\n",
    "\n",
    "D = 6\n",
    "n = 1.4\n",
    "R = 2/3*D\n",
    "L = np.sqrt(R**2 + (D/2)**2)\n",
    "d = 2*(R-L)\n",
    "f = (n-1)*(1/R+1/R)\n",
    "fov = np.arctan(D/(2*f))\n",
    "\n",
    "D , n , R , L , d , f , fov"
   ]
  },
  {
   "cell_type": "code",
   "execution_count": null,
   "metadata": {},
   "outputs": [],
   "source": []
  }
 ],
 "metadata": {
  "kernelspec": {
   "display_name": "Python 3",
   "language": "python",
   "name": "python3"
  },
  "language_info": {
   "codemirror_mode": {
    "name": "ipython",
    "version": 3
   },
   "file_extension": ".py",
   "mimetype": "text/x-python",
   "name": "python",
   "nbconvert_exporter": "python",
   "pygments_lexer": "ipython3",
   "version": "3.9.0"
  }
 },
 "nbformat": 4,
 "nbformat_minor": 4
}
